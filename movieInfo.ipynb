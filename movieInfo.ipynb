{
 "cells": [
  {
   "cell_type": "code",
   "execution_count": 1,
   "metadata": {},
   "outputs": [],
   "source": [
    "import requests\n",
    "import json"
   ]
  },
  {
   "cell_type": "code",
   "execution_count": 2,
   "metadata": {},
   "outputs": [
    {
     "name": "stdout",
     "output_type": "stream",
     "text": [
      "Enter a movie name:hereditary\n"
     ]
    }
   ],
   "source": [
    "# get user input movie search\n",
    "search = input(\"Enter a movie name:\")\n",
    "url = \"http://www.omdbapi.com/?apikey=1e34dba6&s=\" + search"
   ]
  },
  {
   "cell_type": "code",
   "execution_count": 3,
   "metadata": {},
   "outputs": [],
   "source": [
    "# use requests.get to submit a 'get' request\n",
    "page = requests.get(url)\n",
    "\n",
    "if page.status_code != requests.codes.ok :\n",
    "    print(\"Request was not successful, status code:\", page.status_code)\n",
    "    print(\"Hit enter to continue...\")\n",
    "    input()\n",
    "    exit()\n",
    "    \n",
    "record = json.loads(page.content)"
   ]
  },
  {
   "cell_type": "code",
   "execution_count": 4,
   "metadata": {},
   "outputs": [],
   "source": [
    "# get search result movie titles and IMDB ids\n",
    "imdbIDs = []\n",
    "titles = []\n",
    "for r in record[\"Search\"] :\n",
    "    imdbIDs.append('http://www.omdbapi.com/?apikey=1e34dba6&i=' + r['imdbID'])\n",
    "    titles.append(r['Title'] + \" (\" + r['Year'] + \")\")"
   ]
  },
  {
   "cell_type": "code",
   "execution_count": 5,
   "metadata": {},
   "outputs": [
    {
     "name": "stdout",
     "output_type": "stream",
     "text": [
      "Select one (number): \n",
      "1. Hereditary (2018)\n",
      "2. Death Is Hereditary (2009)\n",
      "3. Pink & Blue: Colors of Hereditary Cancer (2015)\n",
      "4. Hereditary Misfortune (2003)\n",
      "5. J.I.D: Hereditary (2017)\n",
      "6. Hereditary Collapse (2015)\n",
      "7. Hereditary (2015)\n",
      "1\n"
     ]
    }
   ],
   "source": [
    "# if only one search result, get info for this movie\n",
    "if len(titles) <= 1 :\n",
    "    movie = 1\n",
    "    url = imdbIDs[movie-1]\n",
    "\n",
    "# if more than one search result, user selects desired movie \n",
    "if len(titles) > 1 :\n",
    "    # output movie title / year search results\n",
    "    print(\"Select one (number): \")\n",
    "    x = 0\n",
    "    for i in titles :\n",
    "        x = x + 1\n",
    "        y = str(x) + \".\"\n",
    "        print(y, titles[x-1])\n",
    "    # get user input for search\n",
    "    movie = int(input())\n",
    "    url = imdbIDs[movie-1]"
   ]
  },
  {
   "cell_type": "code",
   "execution_count": 6,
   "metadata": {},
   "outputs": [],
   "source": [
    "# use requests.get to submit a 'get' request\n",
    "page2 = requests.get(url)\n",
    "if page2.status_code != requests.codes.ok :\n",
    "    print(\"Request was not successful, status code:\", page2.status_code)\n",
    "    print(\"Hit enter to continue...\")\n",
    "    input()\n",
    "    exit()\n",
    "data = json.loads(page2.content)"
   ]
  },
  {
   "cell_type": "code",
   "execution_count": 7,
   "metadata": {},
   "outputs": [],
   "source": [
    "# movie title\n",
    "title = titles[movie-1]\n",
    "\n",
    "# get release date\n",
    "date = data['Released']\n",
    "\n",
    "# get rating\n",
    "rating = data['Rated']\n",
    "\n",
    "# get ratings\n",
    "ratings = data['Ratings']\n",
    "\n",
    "# get imdb rating\n",
    "imdbRate = ratings[0]['Value']\n",
    "\n",
    "# get rotten tomatoes rating\n",
    "rt = ratings[1]['Value']\n",
    "\n",
    "# get metacritic rating\n",
    "mc = ratings[2]['Value']"
   ]
  },
  {
   "cell_type": "code",
   "execution_count": 8,
   "metadata": {},
   "outputs": [
    {
     "name": "stdout",
     "output_type": "stream",
     "text": [
      "Hereditary (2018)\n",
      "Rated: R\n",
      "Release Date: 08 Jun 2018\n",
      "Ratings:\n",
      "\t Internet Movie Database: \t 7.3/10\n",
      "\t Rotten Tomatoes: \t\t 89%\n",
      "\t Metacritic: \t\t\t 87/100\n"
     ]
    }
   ],
   "source": [
    "print(title)\n",
    "print(\"Rated:\", rating)\n",
    "print(\"Release Date:\", date)\n",
    "print(\"Ratings:\")\n",
    "print('\\t Internet Movie Database: \\t', imdbRate)\n",
    "print('\\t Rotten Tomatoes: \\t\\t', rt)\n",
    "print('\\t Metacritic: \\t\\t\\t', mc)"
   ]
  }
 ],
 "metadata": {
  "kernelspec": {
   "display_name": "Python 3",
   "language": "python",
   "name": "python3"
  },
  "language_info": {
   "codemirror_mode": {
    "name": "ipython",
    "version": 3
   },
   "file_extension": ".py",
   "mimetype": "text/x-python",
   "name": "python",
   "nbconvert_exporter": "python",
   "pygments_lexer": "ipython3",
   "version": "3.7.1"
  }
 },
 "nbformat": 4,
 "nbformat_minor": 2
}
